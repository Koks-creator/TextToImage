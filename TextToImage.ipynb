{
  "nbformat": 4,
  "nbformat_minor": 0,
  "metadata": {
    "colab": {
      "provenance": [],
      "authorship_tag": "ABX9TyOIKOPsoox1ugiuLOqdF4Pl",
      "include_colab_link": true
    },
    "kernelspec": {
      "name": "python3",
      "display_name": "Python 3"
    },
    "language_info": {
      "name": "python"
    },
    "accelerator": "GPU"
  },
  "cells": [
    {
      "cell_type": "markdown",
      "metadata": {
        "id": "view-in-github",
        "colab_type": "text"
      },
      "source": [
        "<a href=\"https://colab.research.google.com/github/Koks-creator/TextToImage/blob/main/TextToImage.ipynb\" target=\"_parent\"><img src=\"https://colab.research.google.com/assets/colab-badge.svg\" alt=\"Open In Colab\"/></a>"
      ]
    },
    {
      "cell_type": "code",
      "execution_count": null,
      "metadata": {
        "id": "MT3ZmAmoHGYE"
      },
      "outputs": [],
      "source": [
        "!pip install diffusers\n",
        "!pip install transformers"
      ]
    },
    {
      "cell_type": "code",
      "source": [
        "import torch\n",
        "from torch import autocast\n",
        "from diffusers import StableDiffusionPipeline"
      ],
      "metadata": {
        "id": "PQHkJvZ6HHmG"
      },
      "execution_count": null,
      "outputs": []
    },
    {
      "cell_type": "code",
      "source": [
        "modelid = \"CompVis/stable-diffusion-v1-4\"\n",
        "device = \"cuda\"\n",
        "auth_token = \"your HuggingFace account token\"\n",
        "\n",
        "pipe = StableDiffusionPipeline.from_pretrained(modelid, revision=\"fp16\", torch_dtype=torch.float16, use_auth_token=auth_token)\n",
        "pipe.to(device)"
      ],
      "metadata": {
        "id": "seKWJ1c_HIzX"
      },
      "execution_count": null,
      "outputs": []
    },
    {
      "cell_type": "code",
      "source": [
        "from google.colab.patches import cv2_imshow\n",
        "import numpy as np\n",
        "\n",
        "phrase = \"dog\"\n",
        "with autocast(device):\n",
        "    image = pipe(phrase, guidance_scale=8.5)[\"sample\"][0]\n",
        "    open_cv_image = np.array(image)\n",
        "    # Convert RGB to BGR\n",
        "    open_cv_image = open_cv_image[:, :, ::-1].copy()\n",
        "    cv2_imshow(open_cv_image)\n",
        "\n",
        "image.save('generatedimage.png')"
      ],
      "metadata": {
        "id": "1My0FOpoHKPP"
      },
      "execution_count": null,
      "outputs": []
    }
  ]
}